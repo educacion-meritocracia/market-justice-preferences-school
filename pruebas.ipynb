{
  "cells": [
    {
      "cell_type": "raw",
      "metadata": {},
      "source": [
        "---\n",
        "format:\n",
        "  html:\n",
        "    toc: true\n",
        "    keep-tex: true\n",
        "editor: visual\n",
        "smooth-scroll: true\n",
        "number-sections: true\n",
        "bibliography: \"input/bib/just-ineq-merit.bib\"\n",
        "csl: \"input/bib/apa6.csl\"\n",
        "link-citations: true\n",
        "mainfont: Times New Roman\n",
        "---"
      ],
      "id": "13d33753"
    },
    {
      "cell_type": "markdown",
      "metadata": {},
      "source": [
        "```{css, echo = FALSE}\n",
        ".justify {\n",
        "  text-align: justify !important\n",
        "}\n",
        "```\n",
        "\n",
        "\n",
        "# The socialization of meritocracy and market justice preferences at school {.unnumbered}\n",
        "\n",
        "Abstract\n",
        "\n",
        ":::{.justify}\n",
        "Robert E. Lane proposed the underpinnings of the concept of market justice, which he differentiated from political justice. For him, “it is the genius of the market to stimulate wants without at the same time stimulating a sense of deserving more than one gets” [-Lane (1986); p. 384]. Contrary to the evidence that unequal distribution produces feelings of dissatisfaction, anger, and resentment that might motivate forms of collective action (Greitemeyer & Sagioglou, 2016; Mishra & Carleton, 2015; Séamus A. Power, 2018; Séamus A. Power et al., 2020; Smith et al., 2012), Lane points out that in market settings, social comparisons are more likely to motivate increased effort rather than feelings of acute injustice because individuals attribute outcomes to their actions. In this sense, unequal levels of well-being ought to be, to some extent, a function of their talents and efforts, instead of being based in distributive principles that characterize welfarism, such as need and equality (see Wilson 2003).\n",
        "\n",
        ":::\n"
      ],
      "id": "3127354e"
    }
  ],
  "metadata": {
    "kernelspec": {
      "display_name": "Python 3",
      "language": "python",
      "name": "python3"
    }
  },
  "nbformat": 4,
  "nbformat_minor": 5
}